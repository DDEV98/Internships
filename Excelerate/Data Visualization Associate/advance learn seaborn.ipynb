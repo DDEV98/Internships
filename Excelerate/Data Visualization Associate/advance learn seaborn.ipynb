{
 "cells": [
  {
   "cell_type": "markdown",
   "id": "13617ea1-af0c-4a99-84cc-1cf98e5fed2d",
   "metadata": {},
   "source": [
    "EDA Report For ApplicantData"
   ]
  },
  {
   "cell_type": "code",
   "execution_count": 1,
   "id": "8f636759-6087-4f00-8346-3331ec3ac4c9",
   "metadata": {},
   "outputs": [],
   "source": [
    "import pandas as pd\n",
    "import numpy as np\n",
    "import matplotlib.pyplot as plt\n",
    "import seaborn as sns"
   ]
  },
  {
   "cell_type": "code",
   "execution_count": 2,
   "id": "960997b9-310f-42a8-ac53-707d8dbb7ad1",
   "metadata": {},
   "outputs": [],
   "source": [
    "file_path = 'ApplicantData.xlsx'\n",
    "data = pd.read_excel(file_path)"
   ]
  },
  {
   "cell_type": "code",
   "execution_count": 3,
   "id": "04df90bf-1c5c-4940-bba9-60ee77068229",
   "metadata": {},
   "outputs": [
    {
     "data": {
      "text/plain": [
       "Index(['App_ID', 'Country', 'University', 'Phone_Number'], dtype='object')"
      ]
     },
     "execution_count": 3,
     "metadata": {},
     "output_type": "execute_result"
    }
   ],
   "source": [
    "data.columns"
   ]
  },
  {
   "cell_type": "code",
   "execution_count": 4,
   "id": "7854d97b-ec24-4627-9ef3-2b8febfa047a",
   "metadata": {},
   "outputs": [
    {
     "name": "stdout",
     "output_type": "stream",
     "text": [
      "<class 'pandas.core.frame.DataFrame'>\n",
      "RangeIndex: 37882 entries, 0 to 37881\n",
      "Data columns (total 4 columns):\n",
      " #   Column        Non-Null Count  Dtype \n",
      "---  ------        --------------  ----- \n",
      " 0   App_ID        37881 non-null  object\n",
      " 1   Country       37882 non-null  object\n",
      " 2   University    37882 non-null  object\n",
      " 3   Phone_Number  37882 non-null  object\n",
      "dtypes: object(4)\n",
      "memory usage: 1.2+ MB\n"
     ]
    }
   ],
   "source": [
    "data.info()"
   ]
  },
  {
   "cell_type": "code",
   "execution_count": 5,
   "id": "9938ce8a-10f9-47fc-91cb-be2601db5c3c",
   "metadata": {},
   "outputs": [
    {
     "data": {
      "text/plain": [
       "(37882, 4)"
      ]
     },
     "execution_count": 5,
     "metadata": {},
     "output_type": "execute_result"
    }
   ],
   "source": [
    "data.shape"
   ]
  },
  {
   "cell_type": "code",
   "execution_count": 6,
   "id": "e9c805c5-809a-4608-b763-2169174e9dab",
   "metadata": {},
   "outputs": [
    {
     "data": {
      "text/plain": [
       "2"
      ]
     },
     "execution_count": 6,
     "metadata": {},
     "output_type": "execute_result"
    }
   ],
   "source": [
    "data.ndim"
   ]
  },
  {
   "cell_type": "code",
   "execution_count": 7,
   "id": "0e777855-30bc-48a9-8f51-188571ce6f96",
   "metadata": {},
   "outputs": [
    {
     "data": {
      "text/html": [
       "<div>\n",
       "<style scoped>\n",
       "    .dataframe tbody tr th:only-of-type {\n",
       "        vertical-align: middle;\n",
       "    }\n",
       "\n",
       "    .dataframe tbody tr th {\n",
       "        vertical-align: top;\n",
       "    }\n",
       "\n",
       "    .dataframe thead th {\n",
       "        text-align: right;\n",
       "    }\n",
       "</style>\n",
       "<table border=\"1\" class=\"dataframe\">\n",
       "  <thead>\n",
       "    <tr style=\"text-align: right;\">\n",
       "      <th></th>\n",
       "      <th>App_ID</th>\n",
       "      <th>Country</th>\n",
       "      <th>University</th>\n",
       "      <th>Phone_Number</th>\n",
       "    </tr>\n",
       "  </thead>\n",
       "  <tbody>\n",
       "    <tr>\n",
       "      <th>0</th>\n",
       "      <td>12345</td>\n",
       "      <td>India</td>\n",
       "      <td>Illinois Institute of Technology</td>\n",
       "      <td>9823241234</td>\n",
       "    </tr>\n",
       "    <tr>\n",
       "      <th>1</th>\n",
       "      <td>12345</td>\n",
       "      <td>India</td>\n",
       "      <td>Illinois Institute of Technology</td>\n",
       "      <td>8805617501</td>\n",
       "    </tr>\n",
       "    <tr>\n",
       "      <th>2</th>\n",
       "      <td>12345</td>\n",
       "      <td>India</td>\n",
       "      <td>Illinois Institute of Technology</td>\n",
       "      <td>18019011222</td>\n",
       "    </tr>\n",
       "    <tr>\n",
       "      <th>3</th>\n",
       "      <td>347397</td>\n",
       "      <td>Nigeria</td>\n",
       "      <td>Illinois Institute of Technology</td>\n",
       "      <td>7738599513</td>\n",
       "    </tr>\n",
       "    <tr>\n",
       "      <th>4</th>\n",
       "      <td>347397</td>\n",
       "      <td>Nigeria</td>\n",
       "      <td>Illinois Institute of Technology</td>\n",
       "      <td>919182706838</td>\n",
       "    </tr>\n",
       "  </tbody>\n",
       "</table>\n",
       "</div>"
      ],
      "text/plain": [
       "   App_ID  Country                        University  Phone_Number\n",
       "0   12345    India  Illinois Institute of Technology    9823241234\n",
       "1   12345    India  Illinois Institute of Technology    8805617501\n",
       "2   12345    India  Illinois Institute of Technology   18019011222\n",
       "3  347397  Nigeria  Illinois Institute of Technology    7738599513\n",
       "4  347397  Nigeria  Illinois Institute of Technology  919182706838"
      ]
     },
     "execution_count": 7,
     "metadata": {},
     "output_type": "execute_result"
    }
   ],
   "source": [
    "data.head()"
   ]
  },
  {
   "cell_type": "code",
   "execution_count": 8,
   "id": "68c50342-15bb-4759-9c48-08c9c4337b0c",
   "metadata": {},
   "outputs": [
    {
     "data": {
      "text/html": [
       "<div>\n",
       "<style scoped>\n",
       "    .dataframe tbody tr th:only-of-type {\n",
       "        vertical-align: middle;\n",
       "    }\n",
       "\n",
       "    .dataframe tbody tr th {\n",
       "        vertical-align: top;\n",
       "    }\n",
       "\n",
       "    .dataframe thead th {\n",
       "        text-align: right;\n",
       "    }\n",
       "</style>\n",
       "<table border=\"1\" class=\"dataframe\">\n",
       "  <thead>\n",
       "    <tr style=\"text-align: right;\">\n",
       "      <th></th>\n",
       "      <th>App_ID</th>\n",
       "      <th>Country</th>\n",
       "      <th>University</th>\n",
       "      <th>Phone_Number</th>\n",
       "    </tr>\n",
       "  </thead>\n",
       "  <tbody>\n",
       "    <tr>\n",
       "      <th>count</th>\n",
       "      <td>37881</td>\n",
       "      <td>37882</td>\n",
       "      <td>37882</td>\n",
       "      <td>37882</td>\n",
       "    </tr>\n",
       "    <tr>\n",
       "      <th>unique</th>\n",
       "      <td>15416</td>\n",
       "      <td>856</td>\n",
       "      <td>1</td>\n",
       "      <td>18391</td>\n",
       "    </tr>\n",
       "    <tr>\n",
       "      <th>top</th>\n",
       "      <td>`</td>\n",
       "      <td>India</td>\n",
       "      <td>Illinois Institute of Technology</td>\n",
       "      <td>917506942994</td>\n",
       "    </tr>\n",
       "    <tr>\n",
       "      <th>freq</th>\n",
       "      <td>2676</td>\n",
       "      <td>12234</td>\n",
       "      <td>37882</td>\n",
       "      <td>47</td>\n",
       "    </tr>\n",
       "  </tbody>\n",
       "</table>\n",
       "</div>"
      ],
      "text/plain": [
       "       App_ID Country                        University  Phone_Number\n",
       "count   37881   37882                             37882         37882\n",
       "unique  15416     856                                 1         18391\n",
       "top         `   India  Illinois Institute of Technology  917506942994\n",
       "freq     2676   12234                             37882            47"
      ]
     },
     "execution_count": 8,
     "metadata": {},
     "output_type": "execute_result"
    }
   ],
   "source": [
    "data.describe()"
   ]
  },
  {
   "cell_type": "code",
   "execution_count": 9,
   "id": "3da01e3f-750b-4c8a-b9a3-9103aa915033",
   "metadata": {},
   "outputs": [
    {
     "data": {
      "text/plain": [
       "App_ID          1\n",
       "Country         0\n",
       "University      0\n",
       "Phone_Number    0\n",
       "dtype: int64"
      ]
     },
     "execution_count": 9,
     "metadata": {},
     "output_type": "execute_result"
    }
   ],
   "source": [
    "data.isna().sum()"
   ]
  },
  {
   "cell_type": "code",
   "execution_count": 12,
   "id": "93369647-ad69-4d90-9ffb-e5c94688d726",
   "metadata": {},
   "outputs": [
    {
     "data": {
      "text/plain": [
       "np.int64(16489)"
      ]
     },
     "execution_count": 12,
     "metadata": {},
     "output_type": "execute_result"
    }
   ],
   "source": [
    "df = data\n",
    "df.duplicated().sum()"
   ]
  },
  {
   "cell_type": "code",
   "execution_count": 13,
   "id": "fda13198-5629-42f3-bf5d-980d00b6f8fb",
   "metadata": {},
   "outputs": [
    {
     "data": {
      "text/html": [
       "<div>\n",
       "<style scoped>\n",
       "    .dataframe tbody tr th:only-of-type {\n",
       "        vertical-align: middle;\n",
       "    }\n",
       "\n",
       "    .dataframe tbody tr th {\n",
       "        vertical-align: top;\n",
       "    }\n",
       "\n",
       "    .dataframe thead th {\n",
       "        text-align: right;\n",
       "    }\n",
       "</style>\n",
       "<table border=\"1\" class=\"dataframe\">\n",
       "  <thead>\n",
       "    <tr style=\"text-align: right;\">\n",
       "      <th></th>\n",
       "      <th>App_ID</th>\n",
       "      <th>Country</th>\n",
       "      <th>University</th>\n",
       "      <th>Phone_Number</th>\n",
       "    </tr>\n",
       "  </thead>\n",
       "  <tbody>\n",
       "    <tr>\n",
       "      <th>0</th>\n",
       "      <td>12345</td>\n",
       "      <td>India</td>\n",
       "      <td>Illinois Institute of Technology</td>\n",
       "      <td>9823241234</td>\n",
       "    </tr>\n",
       "    <tr>\n",
       "      <th>1</th>\n",
       "      <td>12345</td>\n",
       "      <td>India</td>\n",
       "      <td>Illinois Institute of Technology</td>\n",
       "      <td>8805617501</td>\n",
       "    </tr>\n",
       "    <tr>\n",
       "      <th>2</th>\n",
       "      <td>12345</td>\n",
       "      <td>India</td>\n",
       "      <td>Illinois Institute of Technology</td>\n",
       "      <td>18019011222</td>\n",
       "    </tr>\n",
       "    <tr>\n",
       "      <th>3</th>\n",
       "      <td>347397</td>\n",
       "      <td>Nigeria</td>\n",
       "      <td>Illinois Institute of Technology</td>\n",
       "      <td>7738599513</td>\n",
       "    </tr>\n",
       "    <tr>\n",
       "      <th>4</th>\n",
       "      <td>347397</td>\n",
       "      <td>Nigeria</td>\n",
       "      <td>Illinois Institute of Technology</td>\n",
       "      <td>919182706838</td>\n",
       "    </tr>\n",
       "    <tr>\n",
       "      <th>...</th>\n",
       "      <td>...</td>\n",
       "      <td>...</td>\n",
       "      <td>...</td>\n",
       "      <td>...</td>\n",
       "    </tr>\n",
       "    <tr>\n",
       "      <th>37877</th>\n",
       "      <td>-</td>\n",
       "      <td>Bahrain</td>\n",
       "      <td>Illinois Institute of Technology</td>\n",
       "      <td>97336598776</td>\n",
       "    </tr>\n",
       "    <tr>\n",
       "      <th>37878</th>\n",
       "      <td>-</td>\n",
       "      <td>Bahrain</td>\n",
       "      <td>Illinois Institute of Technology</td>\n",
       "      <td>97338787272</td>\n",
       "    </tr>\n",
       "    <tr>\n",
       "      <th>37879</th>\n",
       "      <td>-</td>\n",
       "      <td>australia</td>\n",
       "      <td>Illinois Institute of Technology</td>\n",
       "      <td>61432347819</td>\n",
       "    </tr>\n",
       "    <tr>\n",
       "      <th>37880</th>\n",
       "      <td>-</td>\n",
       "      <td>Bahrain</td>\n",
       "      <td>Illinois Institute of Technology</td>\n",
       "      <td>97335911259</td>\n",
       "    </tr>\n",
       "    <tr>\n",
       "      <th>37881</th>\n",
       "      <td>NaN</td>\n",
       "      <td>Bahrain</td>\n",
       "      <td>Illinois Institute of Technology</td>\n",
       "      <td>97339331888</td>\n",
       "    </tr>\n",
       "  </tbody>\n",
       "</table>\n",
       "<p>21393 rows × 4 columns</p>\n",
       "</div>"
      ],
      "text/plain": [
       "       App_ID    Country                        University  Phone_Number\n",
       "0       12345      India  Illinois Institute of Technology    9823241234\n",
       "1       12345      India  Illinois Institute of Technology    8805617501\n",
       "2       12345      India  Illinois Institute of Technology   18019011222\n",
       "3      347397    Nigeria  Illinois Institute of Technology    7738599513\n",
       "4      347397    Nigeria  Illinois Institute of Technology  919182706838\n",
       "...       ...        ...                               ...           ...\n",
       "37877       -    Bahrain  Illinois Institute of Technology   97336598776\n",
       "37878       -    Bahrain  Illinois Institute of Technology   97338787272\n",
       "37879       -  australia  Illinois Institute of Technology   61432347819\n",
       "37880       -    Bahrain  Illinois Institute of Technology   97335911259\n",
       "37881     NaN    Bahrain  Illinois Institute of Technology   97339331888\n",
       "\n",
       "[21393 rows x 4 columns]"
      ]
     },
     "execution_count": 13,
     "metadata": {},
     "output_type": "execute_result"
    }
   ],
   "source": [
    "df.drop_duplicates()"
   ]
  },
  {
   "cell_type": "code",
   "execution_count": 14,
   "id": "17fdf7b9-89c2-420a-91f9-6fd78e9b4e7d",
   "metadata": {},
   "outputs": [
    {
     "name": "stdout",
     "output_type": "stream",
     "text": [
      "       App_ID    Country                        University  Phone_Number\n",
      "0       12345      India  Illinois Institute of Technology    9823241234\n",
      "1       12345      India  Illinois Institute of Technology    8805617501\n",
      "2       12345      India  Illinois Institute of Technology   18019011222\n",
      "3      347397    Nigeria  Illinois Institute of Technology    7738599513\n",
      "4      347397    Nigeria  Illinois Institute of Technology  919182706838\n",
      "...       ...        ...                               ...           ...\n",
      "37877       -    Bahrain  Illinois Institute of Technology   97336598776\n",
      "37878       -    Bahrain  Illinois Institute of Technology   97338787272\n",
      "37879       -  australia  Illinois Institute of Technology   61432347819\n",
      "37880       -    Bahrain  Illinois Institute of Technology   97335911259\n",
      "37881     NaN    Bahrain  Illinois Institute of Technology   97339331888\n",
      "\n",
      "[37882 rows x 4 columns]\n"
     ]
    }
   ],
   "source": []
  },
  {
   "cell_type": "code",
   "execution_count": null,
   "id": "ae6c54b9-6841-4828-8d6a-8e6392eef4d0",
   "metadata": {},
   "outputs": [],
   "source": []
  },
  {
   "cell_type": "code",
   "execution_count": null,
   "id": "ddf6c677-37de-4920-adf4-bfda1f706610",
   "metadata": {},
   "outputs": [],
   "source": []
  }
 ],
 "metadata": {
  "kernelspec": {
   "display_name": "Python 3 (ipykernel)",
   "language": "python",
   "name": "python3"
  },
  "language_info": {
   "codemirror_mode": {
    "name": "ipython",
    "version": 3
   },
   "file_extension": ".py",
   "mimetype": "text/x-python",
   "name": "python",
   "nbconvert_exporter": "python",
   "pygments_lexer": "ipython3",
   "version": "3.10.11"
  }
 },
 "nbformat": 4,
 "nbformat_minor": 5
}
